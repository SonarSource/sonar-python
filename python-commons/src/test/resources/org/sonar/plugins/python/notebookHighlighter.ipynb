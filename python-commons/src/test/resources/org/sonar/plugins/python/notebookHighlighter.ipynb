{
 "cells": [
  {
   "cell_type": "code",
   "execution_count": null,
   "metadata": {},
   "outputs": [],
   "source": [
    "def foo():\n",
    "    pass\n",
    "a = \"test\" # comment\n",
    "# test \\n \\\\n test\n",
    "b = 3J\n"
    "c = \t4.2"
   ]
  }
 ],
 "metadata": {
  "language_info": {
   "name": "python"
  }
 },
 "nbformat": 4,
 "nbformat_minor": 2
}
